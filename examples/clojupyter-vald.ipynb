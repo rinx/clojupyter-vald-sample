{
 "cells": [
  {
   "cell_type": "markdown",
   "metadata": {},
   "source": [
    "# Calling vald-client-clj APIs using Clojupyter\n",
    "\n",
    "In this note, how to call vald-client-clj APIs using Clojupyter is described.\n",
    "\n",
    "## Run the containers\n",
    "\n",
    "First, run a Vald cluster or a Vald Agent NGT container.\n",
    "\n",
    "- [Vald Get Started Document](https://vald.vdaas.org/docs/tutorial/get-started/)\n",
    "\n",
    "In this example, a Vald Agent NGT container is used.\n",
    "Please create a docker network to allow the containers to access by name.\n",
    "\n",
    "    $ docker create network clojupyter-vald\n",
    "\n",
    "To run a Vald Agent NGT, \n",
    "\n",
    "    $ docker run -v path-to-config-dir:/etc/server --network clojupyter-vald --rm --name vald-agent-ngt -it vdaas/vald-agent-ngt:nightly\n",
    "    2020-06-29 06:12:59     [INFO]: maxprocs: Leaving GOMAXPROCS=3: CPU quota undefined\n",
    "    2020-06-29 06:12:59     [INFO]: service agent ngt v0.0.0 starting...\n",
    "    2020-06-29 06:12:59     [INFO]: daemon start\n",
    "    2020-06-29 06:12:59     [INFO]: server pprof executing preStartFunc\n",
    "    2020-06-29 06:12:59     [INFO]: server grpc executing preStartFunc\n",
    "    2020-06-29 06:12:59     [INFO]: server prometheus executing preStartFunc\n",
    "    2020-06-29 06:12:59     [INFO]: REST server pprof starting on 0.0.0.0:6060\n",
    "    2020-06-29 06:12:59     [INFO]: gRPC server grpc starting on 0.0.0.0:8081\n",
    "    2020-06-29 06:12:59     [INFO]: REST server readiness starting on 0.0.0.0:3001\n",
    "    2020-06-29 06:12:59     [INFO]: REST server prometheus starting on 0.0.0.0:6061\n",
    "    \n",
    "Then, please start the clojupyter-vald-sample container.\n",
    "\n",
    "    $ docker run -p 8888:8888 --network clojupyter-vald -it rinx/clojupyter-vald-sample\n",
    "\n",
    "Please access to the http://localhost:8888 to open the Jupyter Notebook.\n",
    "\n",
    "## Require vald-client-clj library and create a client\n",
    "\n",
    "To require vald-client-clj library, please run the following:"
   ]
  },
  {
   "cell_type": "code",
   "execution_count": 7,
   "metadata": {},
   "outputs": [
    {
     "data": {
      "text/plain": [
       "nil"
      ]
     },
     "execution_count": 7,
     "metadata": {},
     "output_type": "execute_result"
    }
   ],
   "source": [
    "(require '[vald-client-clj.core :as vald])"
   ]
  },
  {
   "cell_type": "markdown",
   "metadata": {},
   "source": [
    "and then, create a agent client."
   ]
  },
  {
   "cell_type": "code",
   "execution_count": 2,
   "metadata": {},
   "outputs": [
    {
     "data": {
      "text/plain": [
       "#'user/client"
      ]
     },
     "execution_count": 2,
     "metadata": {},
     "output_type": "execute_result"
    }
   ],
   "source": [
    "(def client\n",
    "  (vald/agent-client \"vald-agent-ngt\" 8081))"
   ]
  },
  {
   "cell_type": "markdown",
   "metadata": {},
   "source": [
    "If you're using Vald cluster, please create a gateway client instead.\n",
    "\n",
    "```clojure\n",
    "(def client\n",
    "  (vald/vald-client \"domain of cluster\" 8081))\n",
    "```"
   ]
  },
  {
   "cell_type": "markdown",
   "metadata": {},
   "source": [
    "## Call vald-client-clj APIs\n",
    "\n",
    "You can use vald-client-clj APIs like the followings.\n"
   ]
  },
  {
   "cell_type": "code",
   "execution_count": 3,
   "metadata": {},
   "outputs": [
    {
     "data": {
      "text/plain": [
       "#'user/dimension"
      ]
     },
     "execution_count": 3,
     "metadata": {},
     "output_type": "execute_result"
    }
   ],
   "source": [
    "(def dimension 784)"
   ]
  },
  {
   "cell_type": "code",
   "execution_count": 4,
   "metadata": {},
   "outputs": [
    {
     "data": {
      "text/plain": [
       "{}"
      ]
     },
     "execution_count": 4,
     "metadata": {},
     "output_type": "execute_result"
    }
   ],
   "source": [
    ";; insert\n",
    "(-> client\n",
    "    (vald/insert \"meta\" (take dimension (repeatedly rand))))"
   ]
  },
  {
   "cell_type": "code",
   "execution_count": 5,
   "metadata": {},
   "outputs": [
    {
     "data": {
      "text/plain": [
       "{}"
      ]
     },
     "execution_count": 5,
     "metadata": {},
     "output_type": "execute_result"
    }
   ],
   "source": [
    ";; remove-id\n",
    "(-> client\n",
    "    (vald/remove-id \"meta\"))"
   ]
  },
  {
   "cell_type": "code",
   "execution_count": 6,
   "metadata": {},
   "outputs": [
    {
     "data": {
      "text/plain": [
       "{:status :done, :count 1000}"
      ]
     },
     "execution_count": 6,
     "metadata": {},
     "output_type": "execute_result"
    }
   ],
   "source": [
    ";; stream insert\n",
    "(-> client\n",
    "    (vald/stream-insert\n",
    "     identity\n",
    "     (->> (take 1000 (range))\n",
    "         (map (fn [i]\n",
    "                  {:id (str \"meta\" i)\n",
    "                   :vector (take dimension (repeatedly rand))}))\n",
    "         (vec)))\n",
    "    (deref))"
   ]
  },
  {
   "cell_type": "markdown",
   "metadata": {},
   "source": [
    "please wait for finishing creating index.\n",
    "\n",
    "After index created, send search requests."
   ]
  },
  {
   "cell_type": "code",
   "execution_count": 7,
   "metadata": {},
   "outputs": [
    {
     "data": {
      "text/plain": [
       "{:id \"meta1\", :vector (0.28687677 0.072202615 0.08684743 0.09626826 0.6310945 0.6804732 0.15106194 0.37331024 0.085573636 0.1173129 0.95588225 0.9082217 0.7447617 0.6998726 0.8441438 0.94755673 0.7475735 0.06149543 0.91841465 0.7049656 0.87028813 0.65931916 0.7387954 0.43461055 0.11743653 0.92684937 0.8681505 0.9112257 0.018595515 0.6683359 0.8227864 0.42390677 0.015763257 0.85135514 0.24147205 0.6534125 0.40899736 0.1698208 0.24683152 0.22170429 0.8172554 0.6217165 0.040521897 0.27764648 0.006885614 0.87416404 0.7472405 0.21423443 0.2419729 0.3730108 0.40249008 0.50041306 0.018753275 0.9949402 0.7651629 0.65449464 0.16056788 0.53718054 0.32838637 0.5863779 0.77033496 0.49320596 0.50070816 0.8922186 0.4642769 0.37239563 0.43457842 0.19789435 0.6436462 0.2874355 0.39022237 0.31655365 0.30045274 0.6553193 0.8403775 0.81073374 0.9987028 0.63612413 0.74500304 0.5309769 0.22441696 0.3683074 0.5549527 0.8405705 0.25570244 0.15009153 0.5397332 0.5299818 0.068414666 0.46357346 0.97685516 0.8747526 0.5634475 0.14151621 0.5889157 0.8970655 0.5784524 0.03635014 0.3694331 0.65388864 0.7297932 0.26673186 0.59958977 0.29354906 0.11980067 0.48907864 0.42541957 0.697784 0.33990023 0.66981745 0.8386102 0.75776106 0.0019422485 0.518657 0.28397363 0.7202553 0.23807389 0.08401195 0.40277052 0.58411676 0.22374757 0.008779036 0.61345637 0.22735615 0.7989709 0.59798473 0.33005232 0.801623 0.68965834 0.15939447 0.6232231 0.9435447 0.6639553 0.043993715 0.04028085 0.5213411 0.19766074 0.4353222 0.11771302 0.96032417 0.86838424 0.21496142 0.84346867 0.6723379 0.7498296 0.16604759 0.95611715 0.751888 0.53560567 0.36750114 0.5041286 0.8956577 0.9862241 0.87873495 0.5309065 0.45230037 0.563448 0.7179238 0.09983711 0.61584455 0.79291767 0.69648683 0.12850128 0.03874389 0.97898436 0.88825727 0.6623296 0.5595477 0.38494143 0.38388088 0.28536224 0.31536528 0.88735163 0.5093087 0.33940858 0.24074052 0.41492411 0.8718159 0.5027858 0.8422504 0.19040613 0.43780237 0.06594571 0.18208455 0.90820885 0.34369856 0.93368423 0.20406008 0.5009969 0.29462236 0.98226005 0.89196974 0.075228065 0.21500093 0.9046314 0.2628578 0.92863756 0.28119358 0.08815262 0.86676246 0.30191845 0.5882216 0.3864565 0.28966033 0.6623593 0.48103037 0.87087876 0.13779178 0.86895597 0.015280633 0.77666605 0.11924314 0.52652395 0.10348539 0.8953403 0.13260624 0.20059362 0.64937955 0.6069758 0.72273093 0.935381 0.37672913 0.59477764 0.8700318 0.69388205 0.11835836 0.039233632 0.84250563 0.9221478 0.046991765 0.7502439 0.75856197 0.429055 0.70158017 0.26301533 0.5839622 0.16839492 0.69109845 0.39714202 0.5176122 0.3118603 0.64237475 0.15817322 0.10864366 0.20951858 0.29932925 0.14710602 0.99116904 0.4486181 0.67807287 0.8356203 0.82328737 0.24207988 0.83563524 0.16350779 0.8733654 0.80478746 0.119661845 0.91963 0.7093125 0.2087937 0.7322415 0.27887055 0.61551374 0.44782212 0.06309385 0.6849338 0.68728125 0.08694731 0.5256688 0.99247044 0.034127727 0.9250976 0.56427866 0.4118971 0.16086392 0.55603063 0.09120497 0.33640724 0.38946387 0.5776899 0.85979164 0.57305497 0.13484018 0.47035906 0.18285705 0.84842557 0.95411474 0.84078765 0.9653278 0.71428925 0.5516667 0.8124703 0.23581591 0.13976799 0.34118438 0.83151907 0.2339346 0.14392772 0.7411433 0.053076442 0.6384641 0.79634076 0.111577645 0.7749743 0.7060531 0.7930471 0.12770829 0.09335205 0.93095857 0.6014742 0.42993462 0.06920488 0.33339956 0.8602607 0.58989465 0.21534058 0.6374191 0.3185583 0.7887411 0.039981976 0.40871912 0.10427277 0.116477974 0.7162592 0.6887545 0.52183527 0.07014682 0.68609357 0.7834415 0.8974791 0.6538474 0.15248397 0.6431564 0.21362968 0.46502224 0.96596265 0.7052714 0.40389746 0.2891312 0.36899653 0.1612936 0.21629845 0.018785527 0.4263676 0.35774434 0.49470702 0.16360813 0.74007326 0.4432368 0.5771808 0.8235308 0.2240459 0.4337782 0.2646793 0.76093507 0.29699865 0.5841458 0.47483018 0.1259886 0.840962 0.3252537 0.26278147 0.4647236 0.6685835 0.055750128 0.36480907 0.8708507 0.044021375 0.76065314 0.800233 0.5299952 0.0102697555 0.7706543 0.35332814 0.44898924 0.89001155 0.97278994 0.94929755 0.86304784 0.3476031 0.43649918 0.037010904 0.67010283 0.82655144 0.7286596 0.09609069 0.25426373 0.009854353 0.15701027 0.29706496 0.22931947 0.18982996 0.8034433 0.16068499 0.9583909 0.07957089 0.48696476 0.7861414 0.18728891 0.6499159 0.7306961 0.84779394 0.7668286 0.033839773 0.39810818 0.09616321 0.23329456 0.40441948 0.91074973 0.5413155 0.9664488 0.0030434576 0.86305195 0.8454045 0.7509169 0.17128745 0.4093628 0.70601696 0.8294842 0.32288933 0.014183123 0.17310128 0.9557792 0.28151244 0.02864814 0.909642 0.5290148 0.30549458 0.08461777 0.379875 0.6249073 0.42253858 0.4823096 0.82872134 0.6245833 0.40530726 0.5882288 0.7022509 0.18723427 0.83314365 0.75721914 0.8513686 0.5124717 0.20564537 0.44578004 0.45955122 0.19478111 5.7984306E-4 0.99336517 0.14034173 0.48516956 0.90163445 0.014197125 0.061445627 0.44404545 0.1607541 0.4642045 0.2696522 0.29456547 0.20532589 0.22600734 0.6144394 0.26712862 0.15222907 0.48944733 0.7980027 0.3633926 0.84877586 0.29597878 0.11558088 0.7621328 0.42482617 0.36230847 0.39233485 0.03946042 0.11086796 0.70199054 0.47166932 0.98235977 0.2536121 0.6232547 0.3647675 0.53720295 0.043658767 0.39716533 0.83224475 0.35384163 0.45904967 0.26227996 0.736208 0.4610752 0.3240293 0.46029523 0.97464067 0.84073573 0.18409465 0.68173975 0.18991697 0.055329118 0.90642256 0.6415924 0.7293807 0.62811446 0.5290195 0.5017759 0.52830744 0.5747002 0.9024487 0.5107956 0.68420136 0.34168133 0.09474541 0.5403628 0.4962609 0.4205357 0.36313963 0.16466403 0.6549809 0.07394456 0.7354642 0.55000633 0.084239885 0.9368964 0.8896328 0.7008895 0.66185653 0.73637944 0.0713305 0.5431274 0.6744798 0.01116249 0.24806772 0.91545856 0.39881107 0.5071106 0.56200635 0.7881601 0.6435404 0.87367517 0.4144738 0.930495 0.43500927 0.3936459 0.19183905 0.8083971 0.28449816 0.7409452 0.72543323 0.70961547 0.63616693 0.18019241 0.067453444 0.96561235 0.16206154 0.19695951 0.060298357 0.6678276 0.5442321 0.27908632 0.4785401 0.4604933 0.26388916 0.45711723 0.23074587 0.8330036 0.7036611 0.25586808 0.2226205 0.83191305 0.5613935 0.9093264 0.003448282 0.26595926 0.17256986 0.047533475 0.24457069 0.28707436 0.8433103 0.5767926 0.43164477 0.6961706 0.707042 0.14349246 0.891684 0.44455653 0.93531543 0.39703056 0.42139181 0.58015865 0.3568745 0.24876659 0.33505532 0.32229605 0.66897047 0.46163046 0.70827556 0.039573904 0.46104357 0.19895662 0.9580667 0.6525329 0.21327808 0.61130947 0.6703666 0.38601217 0.28116992 0.14651138 0.76275665 0.8557532 0.63212836 0.030780517 0.65319884 0.1895922 0.7612665 0.28782892 0.094853915 0.2556599 0.7809179 0.7379692 0.7325536 0.0983268 0.15204905 0.6507217 0.23825708 0.36720252 0.9056219 0.11210987 0.090829924 0.865319 0.48809052 0.7117769 0.67974114 0.33969682 0.5576019 0.8552524 0.43278268 0.2908138 0.1561017 0.8631423 0.09467232 0.88706684 0.687429 0.03171108 0.1164097 0.036137164 0.042617857 0.99827075 0.3545127 0.287239 0.03100452 0.079986416 0.9247689 0.5165538 0.99937385 0.7361526 0.106895365 0.2827206 0.1512597 0.94169146 0.6545069 0.33007425 0.6146483 0.053568117 0.7290518 0.96439385 0.7487148 0.7020136 0.9468805 0.9292432 0.5288581 0.34489202 0.7053724 0.9705562 0.10417949 0.38624358 0.037051618 0.49293983 0.7826852 0.17897956 0.7298818 0.5832384 0.7668756 0.8069023 0.34743795 0.20522176 0.9360155 0.2726668 0.08440965 0.5538322 0.85126364 0.6059972 0.10089972 0.39824355 0.94597286 0.45041606 0.09323872 0.7400575 0.5558537 0.8869394 0.3795442 0.2662813 0.042328212 0.60963726 0.7050113 0.88630223 0.7672832 0.08065232 0.30492914 0.10789452 0.088565186 0.96121716 0.50267494 0.12936385 0.86294127 0.94040394 0.26544636 0.30325606 0.16688417 0.06478707 0.6922492 0.061625786 0.075422056 0.80989325 0.36666685 0.48368225 0.37542537 0.4282607 0.8711943 0.43369883 0.032088224 0.55912215 0.5304284 0.6003937 0.07599226 0.69117343 0.62716323 0.82855934 0.33302498 0.8325845 0.91844743 0.8495384 0.08055714 0.66135365 0.26791832 0.8892149 0.2806667 0.50430334 0.60623544 0.66050816 0.51482916 0.7244586 0.23319343 0.9319296 0.12437741 0.48424727 0.68310267 0.20458007 0.3471671 0.3959042 0.9892837 0.027039023 0.43326572 0.2706577 0.20402874 0.1309134 0.8211173 0.034722492 0.45714286 0.87938756 0.46051618 0.8928178 0.6691826 0.48693427 0.2798583 0.98887515 0.27477098 0.09041761 0.61251783 0.13879484 0.9568725 0.0301384 0.12083395 0.69155693)}"
      ]
     },
     "execution_count": 7,
     "metadata": {},
     "output_type": "execute_result"
    }
   ],
   "source": [
    ";; get-object\n",
    "(-> client\n",
    "    (vald/get-object \"meta1\"))"
   ]
  },
  {
   "cell_type": "code",
   "execution_count": 8,
   "metadata": {},
   "outputs": [
    {
     "name": "stdout",
     "output_type": "stream",
     "text": [
      "[{:id \"meta46\", :distance 10.721643}\n",
      " {:id \"meta113\", :distance 10.769736}\n",
      " {:id \"meta696\", :distance 10.816422}]\n"
     ]
    },
    {
     "data": {
      "text/plain": [
       "nil"
      ]
     },
     "execution_count": 8,
     "metadata": {},
     "output_type": "execute_result"
    }
   ],
   "source": [
    ";; search\n",
    "(-> client\n",
    "    (vald/search {:num 3} (vec (take 784 (repeatedly rand))))\n",
    "    (clojure.pprint/pprint))"
   ]
  },
  {
   "cell_type": "code",
   "execution_count": 9,
   "metadata": {},
   "outputs": [
    {
     "name": "stdout",
     "output_type": "stream",
     "text": [
      "[[{:id \"meta66\", :distance 11.000912}\n",
      "  {:id \"meta614\", :distance 11.092979}\n",
      "  {:id \"meta361\", :distance 11.095173}]\n",
      " [{:id \"meta168\", :distance 10.869421}\n",
      "  {:id \"meta390\", :distance 10.945769}\n",
      "  {:id \"meta177\", :distance 10.985801}]\n",
      " [{:id \"meta770\", :distance 10.8477125}\n",
      "  {:id \"meta6\", :distance 10.858251}\n",
      "  {:id \"meta687\", :distance 10.861681}]]\n"
     ]
    },
    {
     "data": {
      "text/plain": [
       "nil"
      ]
     },
     "execution_count": 9,
     "metadata": {},
     "output_type": "execute_result"
    }
   ],
   "source": [
    ";; stream search\n",
    "(def results (atom []))\n",
    "(-> client\n",
    "    (vald/stream-search\n",
    "     (fn [res]\n",
    "         (swap! results conj res))\n",
    "     {:num 3}\n",
    "     (vec (take 3 (repeatedly #(vec (take dimension (repeatedly rand)))))))\n",
    "    (deref))\n",
    "(clojure.pprint/pprint\n",
    " (deref results))"
   ]
  },
  {
   "cell_type": "code",
   "execution_count": 10,
   "metadata": {},
   "outputs": [
    {
     "name": "stdout",
     "output_type": "stream",
     "text": [
      "[[{:id \"meta850\", :distance 10.874201}\n",
      "  {:id \"meta863\", :distance 10.906281}\n",
      "  {:id \"meta422\", :distance 10.935315}]\n",
      " [{:id \"meta2\", :distance 0.0}\n",
      "  {:id \"meta151\", :distance 10.678402}\n",
      "  {:id \"meta562\", :distance 10.739888}]\n",
      " [{:id \"meta94\", :distance 10.7507715}\n",
      "  {:id \"meta550\", :distance 10.87126}\n",
      "  {:id \"meta317\", :distance 10.892149}]]\n"
     ]
    },
    {
     "data": {
      "text/plain": [
       "nil"
      ]
     },
     "execution_count": 10,
     "metadata": {},
     "output_type": "execute_result"
    }
   ],
   "source": [
    ";; stream search-by-id\n",
    "(def results2 (atom []))\n",
    "(-> client\n",
    "    (vald/stream-search-by-id\n",
    "     (fn [res]\n",
    "         (swap! results2 conj res))\n",
    "     {:num 3}\n",
    "     [\"meta1\" \"meta2\" \"meta3\"])\n",
    "    (deref))\n",
    "(clojure.pprint/pprint\n",
    " (deref results2))"
   ]
  },
  {
   "cell_type": "markdown",
   "metadata": {},
   "source": [
    "### Visualize\n",
    "\n",
    "Let's visualize the results using [metasoarous/oz](https://github.com/metasoarous/oz)."
   ]
  },
  {
   "cell_type": "code",
   "execution_count": 11,
   "metadata": {},
   "outputs": [
    {
     "data": {
      "text/plain": [
       "nil"
      ]
     },
     "execution_count": 11,
     "metadata": {},
     "output_type": "execute_result"
    }
   ],
   "source": [
    "(require '[clojupyter.misc.helper :as helper])\n",
    "(helper/add-dependencies '[metasoarous/oz \"1.6.0-alpha6\"])\n",
    "(require '[oz.notebook.clojupyter :as oz])"
   ]
  },
  {
   "cell_type": "code",
   "execution_count": 12,
   "metadata": {},
   "outputs": [
    {
     "data": {
      "text/html": [
       "\n",
       "<div>\n",
       "  <div id='uuid-4787a88f-dfd2-46ce-af6a-436cb08050e6'></div>\n",
       "  <script>\n",
       "  requirejs.config({\n",
       "    baseUrl: 'https://cdn.jsdelivr.net/npm/',\n",
       "    paths: {\n",
       "      'vega-embed':  'vega-embed@3?noext',\n",
       "      'vega-lib': 'vega-lib?noext',\n",
       "      'vega-lite': 'vega-lite@2?noext',\n",
       "      'vega': 'vega@3?noext'\n",
       "    }\n",
       "  });\n",
       "  require(['vega-embed'], function(vegaEmbed) {\n",
       "    let spec = {\"data\":{\"values\":[{\"id\":\"meta832\",\"distance\":10.646718},{\"id\":\"meta30\",\"distance\":10.788381},{\"id\":\"meta84\",\"distance\":10.82093},{\"id\":\"meta705\",\"distance\":10.845315},{\"id\":\"meta785\",\"distance\":10.879457},{\"id\":\"meta945\",\"distance\":10.889554},{\"id\":\"meta754\",\"distance\":10.921697},{\"id\":\"meta952\",\"distance\":10.937029},{\"id\":\"meta416\",\"distance\":10.941337},{\"id\":\"meta147\",\"distance\":10.94258},{\"id\":\"meta532\",\"distance\":10.971186},{\"id\":\"meta194\",\"distance\":10.977888},{\"id\":\"meta487\",\"distance\":10.979783},{\"id\":\"meta574\",\"distance\":10.996436},{\"id\":\"meta885\",\"distance\":10.998621},{\"id\":\"meta241\",\"distance\":11.002752},{\"id\":\"meta149\",\"distance\":11.004733},{\"id\":\"meta863\",\"distance\":11.005119},{\"id\":\"meta985\",\"distance\":11.007603},{\"id\":\"meta765\",\"distance\":11.009898}]},\"mark\":\"bar\",\"encoding\":{\"x\":{\"field\":\"id\",\"type\":\"nominal\"},\"y\":{\"field\":\"distance\",\"type\":\"quantitative\"}}};\n",
       "    vegaEmbed('#uuid-4787a88f-dfd2-46ce-af6a-436cb08050e6', spec, {defaultStyle:true}).catch(console.warn);\n",
       "    }, function(err) {\n",
       "    console.log('Failed to load');\n",
       "  });\n",
       "  </script>\n",
       "</div>\n",
       "  "
      ]
     },
     "execution_count": 12,
     "metadata": {},
     "output_type": "execute_result"
    }
   ],
   "source": [
    "(let [results\n",
    "      (-> client\n",
    "          (vald/search {:num 20} (vec (take dimension (repeatedly rand)))))]\n",
    "    (oz/view!\n",
    "     {:data {:values results}\n",
    "      :mark \"bar\"\n",
    "      :encoding\n",
    "      {:x\n",
    "       {:field \"id\"\n",
    "        :type \"nominal\"}\n",
    "       :y\n",
    "       {:field \"distance\"\n",
    "        :type \"quantitative\"}}}))"
   ]
  },
  {
   "cell_type": "markdown",
   "metadata": {},
   "source": [
    "### Close\n",
    "\n",
    "Please close the connection after finishing your work."
   ]
  },
  {
   "cell_type": "code",
   "execution_count": 13,
   "metadata": {},
   "outputs": [
    {
     "data": {
      "text/plain": [
       "#object[io.grpc.internal.ManagedChannelImpl 0x17a0bb43 \"ManagedChannelImpl{logId=1, target=vald-agent-ngt:8081}\"]"
      ]
     },
     "execution_count": 13,
     "metadata": {},
     "output_type": "execute_result"
    }
   ],
   "source": [
    "(vald/close client)"
   ]
  },
  {
   "cell_type": "markdown",
   "metadata": {},
   "source": [
    "## Using Fashion-MNIST dataset\n",
    "\n",
    "In this example, [Fashion-MNIST](https://github.com/zalandoresearch/fashion-mnist) dataset will be used.\n",
    "\n",
    "First, download the dataset from ann-benchmarks.com."
   ]
  },
  {
   "cell_type": "code",
   "execution_count": 1,
   "metadata": {},
   "outputs": [
    {
     "data": {
      "text/plain": [
       "nil"
      ]
     },
     "execution_count": 1,
     "metadata": {},
     "output_type": "execute_result"
    }
   ],
   "source": [
    "(require '[clojure.java.io :as io])\n",
    "(with-open [in (io/input-stream \"http://ann-benchmarks.com/fashion-mnist-784-euclidean.hdf5\")\n",
    "              out (io/output-stream \"fashion-mnist.hdf5\")]\n",
    "    (io/copy in out))"
   ]
  },
  {
   "cell_type": "markdown",
   "metadata": {},
   "source": [
    "require pure Java implementation of HDF5 loader [jHDF](https://github.com/jamesmudd/jhdf)."
   ]
  },
  {
   "cell_type": "code",
   "execution_count": 2,
   "metadata": {},
   "outputs": [
    {
     "data": {
      "text/plain": [
       "{[io.jhdf/jhdf \"0.5.7\"] #{[org.apache.commons/commons-lang3 \"3.10\" :scope \"runtime\"] [org.slf4j/slf4j-api \"1.7.30\" :scope \"runtime\"]}, [org.slf4j/slf4j-api \"1.7.30\" :scope \"runtime\"] nil, [org.apache.commons/commons-lang3 \"3.10\" :scope \"runtime\"] nil}"
      ]
     },
     "execution_count": 2,
     "metadata": {},
     "output_type": "execute_result"
    }
   ],
   "source": [
    "(require '[clojupyter.misc.helper :as helper])\n",
    "(helper/add-dependencies '[io.jhdf/jhdf \"0.5.7\"])"
   ]
  },
  {
   "cell_type": "code",
   "execution_count": 9,
   "metadata": {},
   "outputs": [
    {
     "data": {
      "text/plain": [
       "io.jhdf.api.Dataset"
      ]
     },
     "execution_count": 9,
     "metadata": {},
     "output_type": "execute_result"
    }
   ],
   "source": [
    "(import '[java.io File])\n",
    "(import '[java.util UUID])\n",
    "(import '[io.jhdf HdfFile])\n",
    "(import '[io.jhdf.api Dataset])"
   ]
  },
  {
   "cell_type": "markdown",
   "metadata": {},
   "source": [
    "create an instance of the HDF5 file."
   ]
  },
  {
   "cell_type": "code",
   "execution_count": 4,
   "metadata": {},
   "outputs": [
    {
     "data": {
      "text/plain": [
       "#'user/hdf5file"
      ]
     },
     "execution_count": 4,
     "metadata": {},
     "output_type": "execute_result"
    }
   ],
   "source": [
    "(def hdf5file\n",
    "    (HdfFile. (File. \"fashion-mnist.hdf5\")))"
   ]
  },
  {
   "cell_type": "markdown",
   "metadata": {},
   "source": [
    "create an instance of the train dataset."
   ]
  },
  {
   "cell_type": "code",
   "execution_count": 12,
   "metadata": {},
   "outputs": [
    {
     "data": {
      "text/plain": [
       "#'user/train-dataset"
      ]
     },
     "execution_count": 12,
     "metadata": {},
     "output_type": "execute_result"
    }
   ],
   "source": [
    "(def train-dataset\n",
    "    (-> hdf5file\n",
    "    (.getDatasetByPath \"train\")))"
   ]
  },
  {
   "cell_type": "markdown",
   "metadata": {},
   "source": [
    "create a client again and insert 1000 vectors."
   ]
  },
  {
   "cell_type": "code",
   "execution_count": 8,
   "metadata": {},
   "outputs": [
    {
     "data": {
      "text/plain": [
       "#'user/client"
      ]
     },
     "execution_count": 8,
     "metadata": {},
     "output_type": "execute_result"
    }
   ],
   "source": [
    "(def client\n",
    "  (vald/agent-client \"vald-agent-ngt\" 8081))"
   ]
  },
  {
   "cell_type": "code",
   "execution_count": 13,
   "metadata": {},
   "outputs": [
    {
     "data": {
      "text/plain": [
       "{:status :done, :count 1000}"
      ]
     },
     "execution_count": 13,
     "metadata": {},
     "output_type": "execute_result"
    }
   ],
   "source": [
    "(let [dims (-> train-dataset\n",
    "                  (.getDimensions)\n",
    "                  (seq))\n",
    "      vecs (-> train-dataset\n",
    "               (.getData)\n",
    "               (->> (cast (class (make-array Float/TYPE (first dims) (second dims)))))\n",
    "               (seq)\n",
    "               (->> (take 1000))\n",
    "               (->> (map seq))\n",
    "               (->> (mapv (fn [v]\n",
    "                             {:id (-> (UUID/randomUUID) (.toString))\n",
    "                              :vector v}))))]\n",
    "    (-> client\n",
    "        (vald/stream-insert identity vecs)\n",
    "        (deref)))"
   ]
  },
  {
   "cell_type": "markdown",
   "metadata": {},
   "source": [
    "please wait for finishing creating index.\n",
    "\n",
    "After index created, send search requests."
   ]
  },
  {
   "cell_type": "code",
   "execution_count": 14,
   "metadata": {},
   "outputs": [
    {
     "name": "stdout",
     "output_type": "stream",
     "text": [
      "[[{:id \"c300191d-6949-47cc-b3c2-0909dc3d5d35\", :distance 601.4624}\n",
      "  {:id \"b36ede63-03c9-4cd1-89df-68967f3d06b0\", :distance 833.77094}\n",
      "  {:id \"d2dbca8e-4b0f-4ad3-a6e9-a3acaef0603f\", :distance 887.6548}]\n",
      " [{:id \"dd030b3f-2874-42d9-bc6b-c19b9f5e563d\", :distance 1253.3287}\n",
      "  {:id \"2249029f-6838-4e95-a7fe-c17d07c0a326\", :distance 1806.3563}\n",
      "  {:id \"842fe170-efb9-4887-9ab7-278e4e2c81e7\", :distance 1857.4353}]\n",
      " [{:id \"05ce6dfd-8db7-42f8-8f77-8e6c5fbc9ffc\", :distance 1211.038}\n",
      "  {:id \"de232c78-9467-4b3c-8866-30a05f1f4e26\", :distance 1235.6666}\n",
      "  {:id \"f8491f7c-27eb-44ee-8863-c7ad8e47b2f5\", :distance 1306.4796}]\n",
      " [{:id \"0d08f31c-a0b8-4de3-a65a-e3bd643ade32\", :distance 1250.3619}\n",
      "  {:id \"ed59cd98-15d6-4bbd-80e6-41739c965a00\", :distance 1279.3639}\n",
      "  {:id \"f8491f7c-27eb-44ee-8863-c7ad8e47b2f5\", :distance 1326.2885}]\n",
      " [{:id \"50a9f810-e0b7-44b6-abdc-744076b3f620\", :distance 764.7366}\n",
      "  {:id \"aae89688-5577-46f2-9020-9615fc533d43\", :distance 840.42847}\n",
      "  {:id \"b816da8f-6360-4b85-bb4d-c609c41a6418\", :distance 932.0118}]\n",
      " [{:id \"176d1895-366e-4dbd-8e8c-100fa6e51c7c\", :distance 1289.1567}\n",
      "  {:id \"8124a8b6-5711-4b44-898a-70d639238425\", :distance 1347.117}\n",
      "  {:id \"3b0a6df4-46d1-4cf6-acae-68acce4e2e0c\", :distance 1356.3708}]\n",
      " [{:id \"27cb6f13-28e5-4062-bf07-ab1e5c6b296f\", :distance 1273.4186}\n",
      "  {:id \"33cbf749-29a6-4c2e-b33a-035cd48be4b2\", :distance 1431.7905}\n",
      "  {:id \"16831d0e-c9c5-4a0e-982e-0f437d2bd973\", :distance 1433.3754}]\n",
      " [{:id \"2940838f-0ec3-40ba-a059-547502a70207\", :distance 1801.1512}\n",
      "  {:id \"b3a1e800-8002-4039-be1c-3d9e03d40204\", :distance 1834.6621}\n",
      "  {:id \"eaa31003-c428-4b0a-a742-d1c65d19549d\", :distance 1850.0895}]\n",
      " [{:id \"ae729661-8a18-4a85-9731-cf41006f19e0\", :distance 1307.9102}\n",
      "  {:id \"769236fc-21ce-4b6d-8376-7df61b7efe34\", :distance 1373.5217}\n",
      "  {:id \"eaf08d5b-75be-499c-a7e7-d4deedd837ee\", :distance 1387.2455}]\n",
      " [{:id \"2067ddb4-c85e-4007-8580-498651a0eb44\", :distance 1739.1926}\n",
      "  {:id \"75fd7613-bc7d-4d56-92c8-f794bbe98e1d\", :distance 1740.6962}\n",
      "  {:id \"4cf5549f-0c2f-4f77-b547-38b1be57fee7\", :distance 1743.7167}]]\n"
     ]
    },
    {
     "data": {
      "text/plain": [
       "nil"
      ]
     },
     "execution_count": 14,
     "metadata": {},
     "output_type": "execute_result"
    }
   ],
   "source": [
    ";; stream search\n",
    "(let [results (atom [])\n",
    "      dims (-> train-dataset\n",
    "                  (.getDimensions)\n",
    "                  (seq))\n",
    "      vecs (-> train-dataset\n",
    "               (.getData)\n",
    "               (->> (cast (class (make-array Float/TYPE (first dims) (second dims)))))\n",
    "               (seq)\n",
    "               (->> (drop 1000))\n",
    "               (->> (take 10))\n",
    "               (->> (mapv seq)))]\n",
    "    (-> client\n",
    "        (vald/stream-search\n",
    "         (fn [res]\n",
    "             (swap! results conj res))\n",
    "         {:num 3}\n",
    "         vecs)\n",
    "        (deref))\n",
    "    (clojure.pprint/pprint\n",
    "     (deref results)))"
   ]
  },
  {
   "cell_type": "code",
   "execution_count": 15,
   "metadata": {},
   "outputs": [
    {
     "data": {
      "text/plain": [
       "#object[io.grpc.internal.ManagedChannelImpl 0x6dcdc911 \"ManagedChannelImpl{logId=1, target=vald-agent-ngt:8081}\"]"
      ]
     },
     "execution_count": 15,
     "metadata": {},
     "output_type": "execute_result"
    }
   ],
   "source": [
    "(vald/close client)"
   ]
  }
 ],
 "metadata": {
  "kernelspec": {
   "display_name": "Clojure (vald-client)",
   "language": "clojure",
   "name": "vald-client"
  },
  "language_info": {
   "file_extension": ".clj",
   "mimetype": "text/x-clojure",
   "name": "clojure",
   "version": "1.10.0"
  }
 },
 "nbformat": 4,
 "nbformat_minor": 4
}
